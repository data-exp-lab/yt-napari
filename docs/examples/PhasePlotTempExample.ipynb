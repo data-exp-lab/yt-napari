{
 "cells": [
  {
   "cell_type": "code",
   "execution_count": 1,
   "id": "631b90ba-e543-4078-b234-4fc7b18c8fbf",
   "metadata": {},
   "outputs": [
    {
     "data": {
      "text/plain": [
       "[<Image layer 'nuclei' at 0x76b12a76d0f0>,\n",
       " <Image layer 'WGA' at 0x76b12a217c70>,\n",
       " <Image layer 'actin' at 0x76b12a28a9e0>]"
      ]
     },
     "execution_count": 1,
     "metadata": {},
     "output_type": "execute_result"
    },
    {
     "name": "stderr",
     "output_type": "stream",
     "text": [
      "yt : [INFO     ] 2024-11-21 14:42:35,829 Parameters: current_time              = 0.0\n",
      "yt : [INFO     ] 2024-11-21 14:42:35,830 Parameters: domain_dimensions         = [ 16 512 512]\n",
      "yt : [INFO     ] 2024-11-21 14:42:35,831 Parameters: domain_left_edge          = [0. 0. 0.]\n",
      "yt : [INFO     ] 2024-11-21 14:42:35,832 Parameters: domain_right_edge         = [1. 1. 1.]\n",
      "yt : [INFO     ] 2024-11-21 14:42:35,832 Parameters: cosmological_simulation   = 0\n"
     ]
    },
    {
     "name": "stdout",
     "output_type": "stream",
     "text": [
      "x\n",
      "y\n",
      "nuclei\n",
      "nuclei\n"
     ]
    },
    {
     "name": "stderr",
     "output_type": "stream",
     "text": [
      "yt : [INFO     ] 2024-11-21 14:43:09,699 Parameters: current_time              = 0.0\n",
      "yt : [INFO     ] 2024-11-21 14:43:09,700 Parameters: domain_dimensions         = [ 16 512 512]\n",
      "yt : [INFO     ] 2024-11-21 14:43:09,700 Parameters: domain_left_edge          = [0. 0. 0.]\n",
      "yt : [INFO     ] 2024-11-21 14:43:09,701 Parameters: domain_right_edge         = [1. 1. 1.]\n",
      "yt : [INFO     ] 2024-11-21 14:43:09,702 Parameters: cosmological_simulation   = 0\n"
     ]
    },
    {
     "name": "stdout",
     "output_type": "stream",
     "text": [
      "nuclei\n",
      "WGA\n",
      "actin\n",
      "x\n"
     ]
    }
   ],
   "source": [
    "import napari \n",
    "import yt \n",
    "\n",
    "v = napari.Viewer()\n",
    "v.open_sample(\n",
    "    plugin = 'napari', \n",
    "    sample = 'kidney',\n",
    ")"
   ]
  },
  {
   "cell_type": "code",
   "execution_count": null,
   "id": "2e92b80f-7ee3-4e72-9dd7-aff1a0342689",
   "metadata": {},
   "outputs": [],
   "source": []
  }
 ],
 "metadata": {
  "kernelspec": {
   "display_name": "Python 3 (ipykernel)",
   "language": "python",
   "name": "python3"
  },
  "language_info": {
   "codemirror_mode": {
    "name": "ipython",
    "version": 3
   },
   "file_extension": ".py",
   "mimetype": "text/x-python",
   "name": "python",
   "nbconvert_exporter": "python",
   "pygments_lexer": "ipython3",
   "version": "3.10.6"
  }
 },
 "nbformat": 4,
 "nbformat_minor": 5
}
